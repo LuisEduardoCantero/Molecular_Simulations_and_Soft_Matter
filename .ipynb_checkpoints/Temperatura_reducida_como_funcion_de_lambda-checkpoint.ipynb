{
 "cells": [
  {
   "cell_type": "markdown",
   "metadata": {},
   "source": [
    "# Obtener la temperatura reducida $T^*$ como una funcion de $\\lambda$ para D = 1 a 5."
   ]
  },
  {
   "cell_type": "code",
   "execution_count": 46,
   "metadata": {},
   "outputs": [],
   "source": [
    "# Importamos librerias\n",
    "import numpy as np\n",
    "import matplotlib.pyplot as plt\n",
    "import math\n",
    "from scipy.integrate import quad\n",
    "from scipy import optimize"
   ]
  },
  {
   "cell_type": "markdown",
   "metadata": {},
   "source": [
    "## Definimos algunas expresiones que debemos evaluar"
   ]
  },
  {
   "cell_type": "markdown",
   "metadata": {},
   "source": [
    "$1 + D \\int_{0}^{\\frac{\\lambda}{\\lambda -\\lambda}} x^{D - 1} f_{CP}(x)dx$"
   ]
  },
  {
   "cell_type": "markdown",
   "metadata": {},
   "source": [
    "Donde:"
   ]
  },
  {
   "cell_type": "markdown",
   "metadata": {},
   "source": [
    "$f_{CP}(x) = e^{-\\beta u_{CP}}(x) - 1$"
   ]
  },
  {
   "cell_type": "markdown",
   "metadata": {},
   "source": [
    "$\\beta = (k_{b}T)^{-1}$"
   ]
  },
  {
   "cell_type": "markdown",
   "metadata": {},
   "source": [
    "$x = \\frac{r}{\\sigma}$"
   ]
  },
  {
   "cell_type": "markdown",
   "metadata": {},
   "source": [
    "$u_{CP}(r) = A \\epsilon\\left[(1/x)^\\lambda - (1/x)^{\\lambda - 1}\\right] + \\epsilon$ si $r < \\sigma B$"
   ]
  },
  {
   "cell_type": "markdown",
   "metadata": {},
   "source": [
    "$u_{CP}(r) = 0$ si $r\\geq \\sigma B$"
   ]
  },
  {
   "cell_type": "markdown",
   "metadata": {},
   "source": [
    "$ A = \\frac{\\lambda_{r}}{\\lambda_{r}-\\lambda_{a}} \\left(\\frac{\\lambda_{r}}{\\lambda_{a}}\\right)^{\\frac{\\lambda_{a}}{\\lambda_{r}-\\lambda_{a}}}$"
   ]
  },
  {
   "cell_type": "markdown",
   "metadata": {},
   "source": [
    "$B = \\left(\\frac{\\lambda_{r}}{\\lambda_{a}}\\right)^{\\frac{1}{\\lambda_{r}-\\lambda_{a}}}$"
   ]
  },
  {
   "cell_type": "markdown",
   "metadata": {},
   "source": [
    "$1 + D \\int_{0}^{\\frac{\\lambda}{\\lambda -\\lambda}} x^{D - 1} (e^{-\\beta u_{CP}} - 1)dx$"
   ]
  },
  {
   "cell_type": "markdown",
   "metadata": {},
   "source": [
    "$1 + D \\int_{0}^{\\frac{\\lambda}{\\lambda -\\lambda}} x^{D - 1} (e^{-(\\frac{1}{k_{b}T}) ( A \\epsilon\\left[(1/x)^\\lambda - (1/x)^{\\lambda - 1}\\right] + \\epsilon)} - 1)dx$"
   ]
  },
  {
   "cell_type": "markdown",
   "metadata": {},
   "source": [
    "$1 + D \\int_{0}^{\\frac{\\lambda}{\\lambda -\\lambda}} x^{D - 1} (e^{-(\\frac{\\epsilon}{k_{b}T}) ( A \\left[(1/x)^\\lambda - (1/x)^{\\lambda - 1}\\right] + 1)} - 1)dx$"
   ]
  },
  {
   "cell_type": "markdown",
   "metadata": {},
   "source": [
    "$T^* \\equiv \\frac{k_{b}T}{\\epsilon}$"
   ]
  },
  {
   "cell_type": "markdown",
   "metadata": {},
   "source": [
    "$1 + D \\int_{0}^{\\frac{\\lambda}{\\lambda -\\lambda}} x^{D - 1} (e^{-(\\frac{1}{T^*}) ( A \\left[(1/x)^\\lambda - (1/x)^{\\lambda - 1}\\right] + 1)} - 1)dx$"
   ]
  },
  {
   "cell_type": "code",
   "execution_count": 313,
   "metadata": {},
   "outputs": [],
   "source": [
    "dx = 0.00001 # funciona mejor con 0.00001 para 2, 3, 4 y 5 D. 0.00001 para D = 1.\n",
    "\n",
    "def integra(expresion):\n",
    "    u = 0\n",
    "    for j in range(1, len(expresion)-1):\n",
    "        are = (expresion[j] + expresion[j+1])/2 * dx\n",
    "        u += are\n",
    "    return u + 2 * (expresion[1])/2 * dx\n",
    "\n",
    "def area(t, lamb, d):\n",
    "    x = np.longdouble(np.arange(0.000001, lamb / (lamb - 1), dx)) #np.float128\n",
    "    tred = t\n",
    "    a = lamb * np.power(lamb / (lamb - 1), lamb - 1)\n",
    "    b = lamb / (lamb - 1)\n",
    "    expon = np.exp(-(1/tred) * (a * (np.power((1/x), lamb) - np.power((1/x), (lamb - 1))) + 1))\n",
    "    expresion = np.power(x, d - 1) * (expon - 1)\n",
    "    return integra(expresion) * d + 1\n",
    "\n",
    "def raiz(t, des, lamb, d):\n",
    "    while np.absolute(area(t, lamb, d)) > 0.00000001:#funciona con 0.000001 en D= 2, 3, 4, y 5. 0.0000001 en D= 1.\n",
    "        a2 = area(t, lamb, d)\n",
    "        a1 = area(t+des, lamb, d)\n",
    "        m = (a2 - a1) / (-des)\n",
    "        b = a2 - m * t\n",
    "        t = -b / m   \n",
    "    return t\n",
    " \n",
    "def tred(d):\n",
    "    f = []\n",
    "    for lamb in range(10, 1000, 10):\n",
    "        t = 1.46\n",
    "        f.append(raiz(t, 0.00001, lamb, d))\n",
    "    return f"
   ]
  },
  {
   "cell_type": "code",
   "execution_count": 314,
   "metadata": {},
   "outputs": [
    {
     "name": "stderr",
     "output_type": "stream",
     "text": [
      "/home/luiscantero/anaconda3/lib/python3.6/site-packages/ipykernel_launcher.py:15: RuntimeWarning: overflow encountered in power\n",
      "  from ipykernel import kernelapp as app\n",
      "/home/luiscantero/anaconda3/lib/python3.6/site-packages/ipykernel_launcher.py:15: RuntimeWarning: invalid value encountered in subtract\n",
      "  from ipykernel import kernelapp as app\n"
     ]
    }
   ],
   "source": [
    "f1 = tred(1)\n",
    "#f2 = tred(2) \n",
    "#f3 = tred(3) \n",
    "#f4 = tred(4) \n",
    "#f5 = tred(5) \n",
    "\n",
    "xx = np.arange(10, 1000, 10)"
   ]
  },
  {
   "cell_type": "code",
   "execution_count": 315,
   "metadata": {},
   "outputs": [
    {
     "data": {
      "text/plain": [
       "<matplotlib.legend.Legend at 0x7fb223342d68>"
      ]
     },
     "execution_count": 315,
     "metadata": {},
     "output_type": "execute_result"
    },
    {
     "data": {
      "image/png": "[encoded data removed]",
      "text/plain": [
       "<Figure size 576x576 with 1 Axes>"
      ]
     },
     "metadata": {},
     "output_type": "display_data"
    }
   ],
   "source": [
    "plt.rcParams[\"figure.figsize\"] = (8,8)\n",
    "plt.xlim(10, 1000)\n",
    "plt.ylim(1.43, 1.65)\n",
    "plt.xlabel(\"$\\lambda$\")\n",
    "plt.ylabel(\"$T^{*}$\")\n",
    "plt.semilogx(xx, f1, \"-\", color = 'k', label = \"D = 1\")\n",
    "plt.semilogx(xx, f2, \"-\", color = 'r', label = \"D = 2\")\n",
    "plt.semilogx(xx, f3, \"-\", color = 'b', label = \"D = 3\")\n",
    "plt.semilogx(xx, f4, \"-\", color = 'g', label = \"D = 4\")\n",
    "plt.semilogx(xx, f5, \"-\", color = 'm', label = \"D = 5\")\n",
    "plt.grid(b=None, which='major', axis='both')\n",
    "plt.legend()"
   ]
  },
  {
   "cell_type": "code",
   "execution_count": 34,
   "metadata": {},
   "outputs": [],
   "source": [
    "k = 22.734"
   ]
  },
  {
   "cell_type": "code",
   "execution_count": 15,
   "metadata": {},
   "outputs": [],
   "source": [
    "mu = np.array([0.0943, 0.1443, 0.1140, 0.1269, 0.1053, 0.1306, 0.1558, 0.1399])"
   ]
  },
  {
   "cell_type": "code",
   "execution_count": 16,
   "metadata": {},
   "outputs": [
    {
     "data": {
      "text/plain": [
       "array([0.0943, 0.1443, 0.114 , 0.1269, 0.1053, 0.1306, 0.1558, 0.1399])"
      ]
     },
     "execution_count": 16,
     "metadata": {},
     "output_type": "execute_result"
    }
   ],
   "source": [
    "mu"
   ]
  },
  {
   "cell_type": "code",
   "execution_count": 18,
   "metadata": {},
   "outputs": [],
   "source": [
    "w = np.sqrt(k/mu)"
   ]
  },
  {
   "cell_type": "code",
   "execution_count": 19,
   "metadata": {},
   "outputs": [
    {
     "data": {
      "text/plain": [
       "array([15.52680438, 12.55176392, 14.12165191, 13.38465301, 14.69344874,\n",
       "       13.19369194, 12.07964583, 12.74761888])"
      ]
     },
     "execution_count": 19,
     "metadata": {},
     "output_type": "execute_result"
    }
   ],
   "source": [
    "w"
   ]
  },
  {
   "cell_type": "code",
   "execution_count": 28,
   "metadata": {},
   "outputs": [],
   "source": [
    "t = np.arange(0, 5, 0.1)"
   ]
  },
  {
   "cell_type": "code",
   "execution_count": 29,
   "metadata": {},
   "outputs": [],
   "source": [
    "xm = 0.0005"
   ]
  },
  {
   "cell_type": "code",
   "execution_count": 30,
   "metadata": {},
   "outputs": [],
   "source": [
    "x0 = xm * np.cos(w[0]*t)"
   ]
  },
  {
   "cell_type": "code",
   "execution_count": 31,
   "metadata": {},
   "outputs": [
    {
     "ename": "SyntaxError",
     "evalue": "invalid syntax (<ipython-input-31-f20a17b7dbe6>, line 1)",
     "output_type": "error",
     "traceback": [
      "\u001b[0;36m  File \u001b[0;32m\"<ipython-input-31-f20a17b7dbe6>\"\u001b[0;36m, line \u001b[0;32m1\u001b[0m\n\u001b[0;31m    u0 = 1/2 * k *\u001b[0m\n\u001b[0m                   ^\u001b[0m\n\u001b[0;31mSyntaxError\u001b[0m\u001b[0;31m:\u001b[0m invalid syntax\n"
     ]
    }
   ],
   "source": [
    "u0 = 1/2 * k * "
   ]
  },
  {
   "cell_type": "code",
   "execution_count": null,
   "metadata": {},
   "outputs": [],
   "source": [
    "plt.rcParams[\"figure.figsize\"] = (8,8)\n",
    "plt.xlim(0, 10)\n",
    "plt.ylim(-2, 2)\n",
    "plt.xlabel(\"$\\lambda$\")\n",
    "plt.ylabel(\"$T^{*}$\")\n",
    "plt.semilogx(xx, f1, \"-\", color = 'k', label = \"D = 1\")\n",
    "plt.semilogx(xx, f2, \"-\", color = 'r', label = \"D = 2\")\n",
    "plt.semilogx(xx, f3, \"-\", color = 'b', label = \"D = 3\")\n",
    "plt.semilogx(xx, f4, \"-\", color = 'g', label = \"D = 4\")\n",
    "plt.semilogx(xx, f5, \"-\", color = 'm', label = \"D = 5\")\n",
    "plt.grid(b=None, which='major', axis='both')\n",
    "plt.legend()"
   ]
  },
  {
   "cell_type": "code",
   "execution_count": 32,
   "metadata": {},
   "outputs": [
    {
     "data": {
      "text/plain": [
       "array([ 5.00000000e-04,  9.05744889e-06, -4.99671850e-04, -2.71604579e-05,\n",
       "        4.98687833e-04,  4.52278161e-05, -4.97049238e-04, -6.32358084e-05,\n",
       "        4.94758218e-04,  8.11607975e-05, -4.91817779e-04, -9.89792551e-05,\n",
       "        4.88231780e-04,  1.16667793e-04, -4.84004930e-04, -1.34203192e-04,\n",
       "        4.79142776e-04,  1.51562437e-04, -4.73651700e-04, -1.68722741e-04,\n",
       "        4.67538909e-04,  1.85661581e-04, -4.60812428e-04, -2.02356721e-04,\n",
       "        4.53481086e-04,  2.18786248e-04, -4.45554505e-04, -2.34928596e-04,\n",
       "        4.37043090e-04,  2.50762578e-04, -4.27958013e-04, -2.66267409e-04,\n",
       "        4.18311199e-04,  2.81422739e-04, -4.08115311e-04, -2.96208673e-04,\n",
       "        3.97383731e-04,  3.10605804e-04, -3.86130546e-04, -3.24595235e-04,\n",
       "        3.74370527e-04,  3.38158603e-04, -3.62119110e-04, -3.51278104e-04,\n",
       "        3.49392376e-04,  3.63936518e-04, -3.36207030e-04, -3.76117230e-04,\n",
       "        3.22580380e-04,  3.87804252e-04])"
      ]
     },
     "execution_count": 32,
     "metadata": {},
     "output_type": "execute_result"
    }
   ],
   "source": [
    "x0"
   ]
  },
  {
   "cell_type": "code",
   "execution_count": 47,
   "metadata": {},
   "outputs": [],
   "source": [
    "x = np.arange(-0.005, 0.005, 0.0001)"
   ]
  },
  {
   "cell_type": "code",
   "execution_count": 49,
   "metadata": {},
   "outputs": [],
   "source": [
    "u1=1/2*k*(x**2)"
   ]
  },
  {
   "cell_type": "code",
   "execution_count": 44,
   "metadata": {},
   "outputs": [
    {
     "data": {
      "text/plain": [
       "array([], dtype=float64)"
      ]
     },
     "execution_count": 44,
     "metadata": {},
     "output_type": "execute_result"
    }
   ],
   "source": [
    "u1"
   ]
  },
  {
   "cell_type": "code",
   "execution_count": 50,
   "metadata": {},
   "outputs": [
    {
     "data": {
      "text/plain": [
       "0.000284175"
      ]
     },
     "execution_count": 50,
     "metadata": {},
     "output_type": "execute_result"
    }
   ],
   "source": [
    "np.max(u1)"
   ]
  },
  {
   "cell_type": "code",
   "execution_count": 89,
   "metadata": {},
   "outputs": [
    {
     "data": {
      "image/png": "[encoded data removed]",
      "text/plain": [
       "<Figure size 576x576 with 1 Axes>"
      ]
     },
     "metadata": {},
     "output_type": "display_data"
    }
   ],
   "source": [
    "plt.rcParams[\"figure.figsize\"] = (8,8)\n",
    "plt.rcParams.update({'font.size':18})\n",
    "\n",
    "plt.xlim(-0.006, .006)\n",
    "plt.ylim(-0.00001, 0.0003 )\n",
    "plt.xlabel(\"x(m)\")\n",
    "plt.ylabel(\"$E_{P}$  (J)\")\n",
    "plt.plot(x, u1, \"-\", color = 'k', linewidth = 3)\n",
    "plt.grid(b=None)\n",
    "#plt.legend()\n",
    "plt.savefig(\"energia.jpeg\")"
   ]
  },
  {
   "cell_type": "code",
   "execution_count": null,
   "metadata": {},
   "outputs": [],
   "source": []
  }
 ],
 "metadata": {
  "kernelspec": {
   "display_name": "Python 3",
   "language": "python",
   "name": "python3"
  },
  "language_info": {
   "codemirror_mode": {
    "name": "ipython",
    "version": 3
   },
   "file_extension": ".py",
   "mimetype": "text/x-python",
   "name": "python",
   "nbconvert_exporter": "python",
   "pygments_lexer": "ipython3",
   "version": "3.6.5"
  }
 },
 "nbformat": 4,
 "nbformat_minor": 2
}
