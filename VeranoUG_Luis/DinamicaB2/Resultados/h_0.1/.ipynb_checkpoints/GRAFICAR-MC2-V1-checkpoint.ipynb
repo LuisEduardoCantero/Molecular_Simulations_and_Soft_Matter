{
 "cells": [
  {
   "cell_type": "markdown",
   "metadata": {},
   "source": [
    "# Resultados de la 2a simulacion usando Dinamica Browniana"
   ]
  },
  {
   "cell_type": "code",
   "execution_count": 1,
   "metadata": {},
   "outputs": [],
   "source": [
    "from matplotlib import pyplot\n",
    "from mpl_toolkits.mplot3d import Axes3D\n",
    "import matplotlib.pyplot as plt\n",
    "import scipy.special\n",
    "import numpy as np\n",
    "import math\n",
    "import pandas as pd\n",
    "from matplotlib.pyplot import figure, show\n",
    "from matplotlib.ticker import MaxNLocator\n",
    "from matplotlib.ticker import (AutoMinorLocator, MultipleLocator)"
   ]
  },
  {
   "cell_type": "code",
   "execution_count": 26,
   "metadata": {},
   "outputs": [],
   "source": [
    "data1 = np.loadtxt('conf_fin2-2.5.dat').T\n",
    "xf1 = np.asarray(data1[0])\n",
    "yf1 = np.asarray(data1[1])\n",
    "zf1 = np.asarray(data1[2])\n",
    "bl=7\n",
    "x1 = xf1 - bl * np.int_(np.round(xf1 / bl))\n",
    "y1 = yf1 - bl * np.int_(np.round(yf1 / bl))\n",
    "z1 = zf1 - bl * np.int_(np.round(zf1 / bl))\n"
   ]
  },
  {
   "cell_type": "code",
   "execution_count": 27,
   "metadata": {},
   "outputs": [],
   "source": [
    "# Medicion para saber si la distancia entre particulas es menor a rc \n",
    "diametro = 0.000001\n",
    "phi = 0.1\n",
    "dd = math.pow(3.14159265358 * diametro * diametro * diametro / (6 * phi),1 / 3)\n",
    "rc=1.25 * diametro / dd\n",
    "# Definimos una funcion para calcular las distancias menores al radio rc \n",
    "a = np.arange(len(x1))\n",
    "def distancia(x1,y1,z1):\n",
    "    npa = []\n",
    "    vx = []\n",
    "    vy = []\n",
    "    vz = []\n",
    "    i=0\n",
    "    while i <= (len(x1)/27 - 1):\n",
    "        vecinos = 0\n",
    "        j = 0\n",
    "        while j <= len(x1) - 1:\n",
    "            if(j!=i):\n",
    "                if(pow(((x1[i] - x1[j]) ** 2 + (y1[i] - y1[j]) ** 2 + (z1[i] - z1[j]) ** 2), 0.5) <= rc):\n",
    "                    vecinos += 1\n",
    "                    if(j>=len(x1)/27):\n",
    "                        vx.append(x1[j])\n",
    "                        vy.append(y1[j])\n",
    "                        vz.append(z1[j])\n",
    "            j += 1\n",
    "        npa.append(vecinos)\n",
    "        i += 1\n",
    "    return npa, vx, vy, vz\n"
   ]
  },
  {
   "cell_type": "code",
   "execution_count": 28,
   "metadata": {},
   "outputs": [],
   "source": [
    "base=bl\n",
    "cx1 = x1 + base\n",
    "cy1 = y1\n",
    "cz1 = z1\n",
    "cx2 = x1 - base\n",
    "cy2 = y1\n",
    "cz2 = z1\n",
    "cx3 = x1\n",
    "cy3 = y1 + base\n",
    "cz3 = z1\n",
    "cx4 = x1\n",
    "cy4 = y1 - base\n",
    "cz4 = z1\n",
    "cx5 = x1\n",
    "cy5 = y1\n",
    "cz5 = z1 + base\n",
    "cx6 = x1\n",
    "cy6 = y1\n",
    "cz6 = z1 - base\n",
    "cx7 = x1 + base\n",
    "cy7 = y1 + base\n",
    "cz7 = z1 + base\n",
    "cx8 = x1 - base\n",
    "cy8 = y1 + base\n",
    "cz8 = z1 + base\n",
    "cx9 = x1 + base\n",
    "cy9 = y1 + base\n",
    "cz9 = z1 - base\n",
    "cx10 = x1 - base\n",
    "cy10 = y1 + base\n",
    "cz10 = z1 - base\n",
    "cx11 = x1 - base\n",
    "cy11 = y1 - base\n",
    "cz11 = z1 + base\n",
    "cx12 = x1 + base\n",
    "cy12 = y1 - base\n",
    "cz12 = z1 + base\n",
    "cx13 = x1 - base\n",
    "cy13 = y1 - base\n",
    "cz13 = z1 - base\n",
    "cx14 = x1 + base\n",
    "cy14 = y1 - base\n",
    "cz14 = z1 - base\n",
    "cx15 = x1 \n",
    "cy15 = y1 + base\n",
    "cz15 = z1 + base\n",
    "cx16 = x1 + base\n",
    "cy16 = y1 + base\n",
    "cz16 = z1 \n",
    "cx17 = x1 - base\n",
    "cy17 = y1 + base\n",
    "cz17 = z1 \n",
    "cx18 = x1 \n",
    "cy18 = y1 + base\n",
    "cz18 = z1 - base\n",
    "cx19 = x1 \n",
    "cy19 = y1 - base\n",
    "cz19 = z1 - base\n",
    "cx20 = x1 - base\n",
    "cy20 = y1 - base\n",
    "cz20 = z1 \n",
    "cx21 = x1 + base\n",
    "cy21 = y1 - base\n",
    "cz21 = z1 \n",
    "cx22 = x1 \n",
    "cy22 = y1 - base\n",
    "cz22 = z1 + base\n",
    "cx23 = x1 + base\n",
    "cy23 = y1 \n",
    "cz23 = z1 + base\n",
    "cx24 = x1 - base\n",
    "cy24 = y1 \n",
    "cz24 = z1 + base\n",
    "cx25 = x1 + base\n",
    "cy25 = y1 \n",
    "cz25 = z1 - base\n",
    "cx26 = x1 - base\n",
    "cy26 = y1 \n",
    "cz26 = z1 - base\n",
    "\n",
    "px = np.block([x1, cx1, cx2, cx3, cx4, cx5, cx6, cx7, cx8, cx9, cx10, cx11, cx12, cx13, cx14, cx15, cx16, cx17, cx18, cx19, cx20, cx21, cx22, cx23, cx24, cx25, cx26])\n",
    "py = np.block([y1, cy1, cy2, cy3, cy4, cy5, cy6, cy7, cy8, cy9, cy10, cy11, cy12, cy13, cy14, cy15, cy16, cy17, cy18, cy19, cy20, cy21, cy22, cy23, cy24, cy25, cy26])\n",
    "pz = np.block([z1, cz1, cz2, cz3, cz4, cz5, cz6, cz7, cz8, cz9, cz10, cz11, cz12, cz13, cz14, cz15, cz16, cz17, cz18, cz19, cz20, cz21, cz22, cz23, cz24, cz25, cz26])"
   ]
  },
  {
   "cell_type": "markdown",
   "metadata": {},
   "source": [
    "#### Calculamos las distancias entre las particulas"
   ]
  },
  {
   "cell_type": "code",
   "execution_count": 5,
   "metadata": {},
   "outputs": [],
   "source": [
    "nve0, vx, vy, vz = distancia(px, py, pz)"
   ]
  },
  {
   "cell_type": "code",
   "execution_count": 9,
   "metadata": {},
   "outputs": [],
   "source": [
    "nve1, vx, vy, vz = distancia(px, py, pz)"
   ]
  },
  {
   "cell_type": "code",
   "execution_count": 13,
   "metadata": {},
   "outputs": [],
   "source": [
    "nve2, vx, vy, vz = distancia(px, py, pz)"
   ]
  },
  {
   "cell_type": "code",
   "execution_count": 17,
   "metadata": {},
   "outputs": [],
   "source": [
    "nve3, vx, vy, vz = distancia(px, py, pz)"
   ]
  },
  {
   "cell_type": "code",
   "execution_count": 21,
   "metadata": {},
   "outputs": [],
   "source": [
    "nve4, vx, vy, vz = distancia(px, py, pz)"
   ]
  },
  {
   "cell_type": "code",
   "execution_count": 25,
   "metadata": {},
   "outputs": [],
   "source": [
    "nve5, vx, vy, vz = distancia(px, py, pz)"
   ]
  },
  {
   "cell_type": "code",
   "execution_count": 29,
   "metadata": {},
   "outputs": [],
   "source": [
    "nve6, vx, vy, vz = distancia(px, py, pz)"
   ]
  },
  {
   "cell_type": "markdown",
   "metadata": {},
   "source": [
    "# Histograma"
   ]
  },
  {
   "cell_type": "code",
   "execution_count": 30,
   "metadata": {},
   "outputs": [
    {
     "data": {
      "image/png": "[encoded data removed]",
      "text/plain": [
       "<Figure size 1080x1080 with 1 Axes>"
      ]
     },
     "metadata": {},
     "output_type": "display_data"
    }
   ],
   "source": [
    "plt.rcParams[\"figure.figsize\"] = (15, 15)\n",
    "ax = figure().gca()\n",
    "plt.rcParams.update({'font.size':16})\n",
    "nbins = 11\n",
    "aw0=np.histogram(nve0, bins=np.arange(nbins))\n",
    "aw=np.histogram(nve1, bins=np.arange(nbins))\n",
    "aw2=np.histogram(nve2, bins=np.arange(nbins))\n",
    "aw3=np.histogram(nve3, bins=np.arange(nbins))\n",
    "aw4=np.histogram(nve4, bins=np.arange(nbins))\n",
    "aw5=np.histogram(nve5, bins=np.arange(nbins))\n",
    "aw6=np.histogram(nve6, bins=np.arange(nbins))\n",
    "b0 = np.asarray(aw0)\n",
    "b = np.asarray(aw)\n",
    "b2 = np.asarray(aw2)\n",
    "b3 = np.asarray(aw3)\n",
    "b4 = np.asarray(aw4)\n",
    "b5 = np.asarray(aw5)\n",
    "b6 = np.asarray(aw6)\n",
    "y0 = [b0[0][0], b0[0][1], b0[0][2], b0[0][3], b0[0][4], b0[0][5], b0[0][6], b0[0][7], b0[0][8], b0[0][9]]\n",
    "y = [b[0][0], b[0][1], b[0][2], b[0][3], b[0][4], b[0][5], b[0][6], b[0][7], b[0][8], b[0][9]]\n",
    "y2 = [b2[0][0], b2[0][1], b2[0][2], b2[0][3], b2[0][4], b2[0][5], b2[0][6], b2[0][7], b2[0][8], b2[0][9]]\n",
    "y3 = [b3[0][0], b3[0][1], b3[0][2], b3[0][3], b3[0][4], b3[0][5], b3[0][6], b3[0][7], b3[0][8], b3[0][9]]\n",
    "y4 = [b4[0][0], b4[0][1], b4[0][2], b4[0][3], b4[0][4], b4[0][5], b4[0][6], b4[0][7], b4[0][8], b4[0][9]]\n",
    "y5 = [b5[0][0], b5[0][1], b5[0][2], b5[0][3], b5[0][4], b5[0][5], b5[0][6], b5[0][7], b5[0][8], b5[0][9]]\n",
    "y6 = [b6[0][0], b6[0][1], b6[0][2], b6[0][3], b6[0][4], b6[0][5], b6[0][6], b6[0][7], b6[0][8], b6[0][9]]\n",
    "X = np.arange(10)\n",
    "plt.bar(X-.3, y0, edgecolor='k',color = 'tab:gray',width=0.1, alpha=0.9, label='SW')\n",
    "plt.bar(X-.2, y, edgecolor='k',color = [(135/255,206/255,250/255)],width=0.1, alpha=0.9, label='h=0.10')\n",
    "plt.bar(X-.1, y2, edgecolor='k',color = [(0/255,191/255,255/255)],width=0.1, alpha=0.9, label='h=0.50')\n",
    "plt.bar(X, y3, edgecolor='k',color = [(30/255,144/255,255/255)],width=0.1, alpha=0.9, label='h=1.00')\n",
    "plt.bar(X+.1, y4, edgecolor='k',color = [(152/255,251/255,152/255)],width=0.1, alpha=0.9, label='h=1.50')\n",
    "plt.bar(X+.2, y5, edgecolor='k',color = [(0/255,250/255,154/255)],width=0.1, alpha=0.9, label='h=2.00')\n",
    "plt.bar(X+.3, y6, edgecolor='k',color =[(60/255,179/255,13/255)],width=0.1, alpha=0.9, label='h=2.50')\n",
    "plt.ylabel(\"Partículas\")\n",
    "plt.xlabel(\"Número de vecinos\")\n",
    "plt.legend()\n",
    "ax.xaxis.set_major_locator(MultipleLocator(1))\n",
    "plt.savefig(\"Histograma_mLuis.pdf\", bbox_inches='tight')"
   ]
  },
  {
   "cell_type": "code",
   "execution_count": null,
   "metadata": {},
   "outputs": [],
   "source": []
  }
 ],
 "metadata": {
  "kernelspec": {
   "display_name": "Python 3",
   "language": "python",
   "name": "python3"
  },
  "language_info": {
   "codemirror_mode": {
    "name": "ipython",
    "version": 3
   },
   "file_extension": ".py",
   "mimetype": "text/x-python",
   "name": "python",
   "nbconvert_exporter": "python",
   "pygments_lexer": "ipython3",
   "version": "3.6.5"
  }
 },
 "nbformat": 4,
 "nbformat_minor": 2
}
